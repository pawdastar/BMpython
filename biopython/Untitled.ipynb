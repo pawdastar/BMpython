{
 "cells": [
  {
   "cell_type": "code",
   "execution_count": 2,
   "metadata": {
    "collapsed": true
   },
   "outputs": [],
   "source": [
    "a = dict(sb=\"123\")"
   ]
  },
  {
   "cell_type": "code",
   "execution_count": 3,
   "metadata": {
    "collapsed": false
   },
   "outputs": [
    {
     "name": "stdout",
     "output_type": "stream",
     "text": [
      "{'sb': '123'}\n"
     ]
    }
   ],
   "source": [
    "print a"
   ]
  },
  {
   "cell_type": "code",
   "execution_count": 4,
   "metadata": {
    "collapsed": false
   },
   "outputs": [
    {
     "name": "stdout",
     "output_type": "stream",
     "text": [
      "<type 'dict'>\n"
     ]
    }
   ],
   "source": [
    "print type(a)"
   ]
  },
  {
   "cell_type": "code",
   "execution_count": 5,
   "metadata": {
    "collapsed": false
   },
   "outputs": [
    {
     "name": "stdout",
     "output_type": "stream",
     "text": [
      "{'sb': '123'}\n"
     ]
    }
   ],
   "source": [
    "print str(a)"
   ]
  },
  {
   "cell_type": "code",
   "execution_count": 6,
   "metadata": {
    "collapsed": true
   },
   "outputs": [],
   "source": [
    "b = str(a)"
   ]
  },
  {
   "cell_type": "code",
   "execution_count": 7,
   "metadata": {
    "collapsed": false
   },
   "outputs": [
    {
     "name": "stdout",
     "output_type": "stream",
     "text": [
      "<type 'str'>\n"
     ]
    }
   ],
   "source": [
    "print type(b)"
   ]
  },
  {
   "cell_type": "code",
   "execution_count": 8,
   "metadata": {
    "collapsed": true
   },
   "outputs": [],
   "source": [
    "import json"
   ]
  },
  {
   "cell_type": "code",
   "execution_count": 14,
   "metadata": {
    "collapsed": false
   },
   "outputs": [
    {
     "name": "stdout",
     "output_type": "stream",
     "text": [
      "<type 'dict'>\n"
     ]
    }
   ],
   "source": [
    "print type(eval(b))"
   ]
  },
  {
   "cell_type": "code",
   "execution_count": 15,
   "metadata": {
    "collapsed": false
   },
   "outputs": [
    {
     "name": "stdout",
     "output_type": "stream",
     "text": [
      "{'time_usage': '0.0330 s', 'succeed': 1, 'config': {'push': 1}, 'user': {'count': 0, 'family_name': '\\\\u8bb8', 'mobile_phone': '13540327568', 'given_name': '\\\\u4e2d\\\\u57f9', 'car': '222', 'week': 0, 'gender': '0', 'joined_at': '2015\\\\/09\\\\/21 00:03:23 +0800', 'email': 'xuwu789@qq.com', 'comment_count': '42', 'street': '\\\\u521b\\\\u65b0\\\\u4e2d\\\\u8def', 'postcode': '621600', 'avatar': {'large': 'http:\\\\/\\\\/game.52sourcecode.com\\\\/uploadFile\\\\/avatar\\\\/2016\\\\/0123\\\\/4a301072dec6b6a49050e5b294cd7983109024.png', 'width': 0, 'thumb': 'http:\\\\/\\\\/game.52sourcecode.com\\\\/uploadFile\\\\/avatar\\\\/2016\\\\/0123\\\\/4a301072dec6b6a49050e5b294cd7983109024.png', 'height': 0}, 'user_group': '2', 'surb': '\\\\u6d66\\\\u4e1c\\\\u65b0\\\\u533a', 'role': '2', 'nickname': '\\\\u8bb8\\\\u4e2d\\\\u57f9', 'id': '23', 'today': 0, 'comment_goodrate': '0.8'}, 'sid': 'sess_56e3e564d6ffb'}\n"
     ]
    }
   ],
   "source": [
    "print {\"sid\":\"sess_56e3e564d6ffb\",\"user\":{\"id\":\"23\",\"user_group\":\"2\",\"nickname\":\"\\u8bb8\\u4e2d\\u57f9\",\"mobile_phone\":\"13540327568\",\"gender\":\"0\",\"avatar\":{\"width\":0,\"height\":0,\"thumb\":\"http:\\/\\/game.52sourcecode.com\\/uploadFile\\/avatar\\/2016\\/0123\\/4a301072dec6b6a49050e5b294cd7983109024.png\",\"large\":\"http:\\/\\/game.52sourcecode.com\\/uploadFile\\/avatar\\/2016\\/0123\\/4a301072dec6b6a49050e5b294cd7983109024.png\"},\"comment_goodrate\":\"0.8\",\"comment_count\":\"42\",\"joined_at\":\"2015\\/09\\/21 00:03:23 +0800\",\"email\":\"xuwu789@qq.com\",\"family_name\":\"\\u8bb8\",\"given_name\":\"\\u4e2d\\u57f9\",\"street\":\"\\u521b\\u65b0\\u4e2d\\u8def\",\"surb\":\"\\u6d66\\u4e1c\\u65b0\\u533a\",\"postcode\":\"621600\",\"car\":\"222\",\"count\":0,\"today\":0,\"week\":0,\"role\":\"2\"},\"config\":{\"push\":1},\"succeed\":1,\"time_usage\":\"0.0330 s\"}"
   ]
  },
  {
   "cell_type": "code",
   "execution_count": null,
   "metadata": {
    "collapsed": true
   },
   "outputs": [],
   "source": []
  }
 ],
 "metadata": {
  "kernelspec": {
   "display_name": "Python 2",
   "language": "python",
   "name": "python2"
  },
  "language_info": {
   "codemirror_mode": {
    "name": "ipython",
    "version": 2
   },
   "file_extension": ".py",
   "mimetype": "text/x-python",
   "name": "python",
   "nbconvert_exporter": "python",
   "pygments_lexer": "ipython2",
   "version": "2.7.11"
  }
 },
 "nbformat": 4,
 "nbformat_minor": 0
}
